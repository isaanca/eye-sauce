{
 "cells": [
  {
   "cell_type": "code",
   "execution_count": 1,
   "metadata": {},
   "outputs": [],
   "source": [
    "import pandas as pd"
   ]
  },
  {
   "cell_type": "code",
   "execution_count": 2,
   "metadata": {},
   "outputs": [],
   "source": [
    "data = pd.read_csv(\"~/Desktop/data.csv\")"
   ]
  },
  {
   "cell_type": "code",
   "execution_count": 3,
   "metadata": {
    "scrolled": true
   },
   "outputs": [
    {
     "data": {
      "text/html": [
       "<div>\n",
       "<style scoped>\n",
       "    .dataframe tbody tr th:only-of-type {\n",
       "        vertical-align: middle;\n",
       "    }\n",
       "\n",
       "    .dataframe tbody tr th {\n",
       "        vertical-align: top;\n",
       "    }\n",
       "\n",
       "    .dataframe thead th {\n",
       "        text-align: right;\n",
       "    }\n",
       "</style>\n",
       "<table border=\"1\" class=\"dataframe\">\n",
       "  <thead>\n",
       "    <tr style=\"text-align: right;\">\n",
       "      <th></th>\n",
       "      <th>section</th>\n",
       "      <th>date_mm_dd_yy</th>\n",
       "      <th>time</th>\n",
       "      <th>duration</th>\n",
       "      <th>name</th>\n",
       "      <th>break_activity</th>\n",
       "      <th>objection</th>\n",
       "      <th>synthesis</th>\n",
       "      <th>clarifying</th>\n",
       "      <th>building_comment</th>\n",
       "      <th>new</th>\n",
       "      <th>reference_to_text</th>\n",
       "      <th>interruption_side_talking</th>\n",
       "      <th>chaos_erupts</th>\n",
       "    </tr>\n",
       "  </thead>\n",
       "  <tbody>\n",
       "    <tr>\n",
       "      <th>0</th>\n",
       "      <td>1</td>\n",
       "      <td>100318.0</td>\n",
       "      <td>10:22:21</td>\n",
       "      <td>NaN</td>\n",
       "      <td>joseph</td>\n",
       "      <td>0.0</td>\n",
       "      <td>0.0</td>\n",
       "      <td>0.0</td>\n",
       "      <td>0.0</td>\n",
       "      <td>0.0</td>\n",
       "      <td>0.0</td>\n",
       "      <td>0.0</td>\n",
       "      <td>1.0</td>\n",
       "      <td>0.0</td>\n",
       "    </tr>\n",
       "    <tr>\n",
       "      <th>1</th>\n",
       "      <td>1</td>\n",
       "      <td>100318.0</td>\n",
       "      <td>10:22:49</td>\n",
       "      <td>0:00:26</td>\n",
       "      <td>everyone</td>\n",
       "      <td>0.0</td>\n",
       "      <td>0.0</td>\n",
       "      <td>0.0</td>\n",
       "      <td>0.0</td>\n",
       "      <td>0.0</td>\n",
       "      <td>0.0</td>\n",
       "      <td>0.0</td>\n",
       "      <td>0.0</td>\n",
       "      <td>1.0</td>\n",
       "    </tr>\n",
       "    <tr>\n",
       "      <th>2</th>\n",
       "      <td>1</td>\n",
       "      <td>100318.0</td>\n",
       "      <td>10:23:15</td>\n",
       "      <td>0:00:34</td>\n",
       "      <td>jehnna</td>\n",
       "      <td>0.0</td>\n",
       "      <td>0.0</td>\n",
       "      <td>0.0</td>\n",
       "      <td>0.0</td>\n",
       "      <td>0.0</td>\n",
       "      <td>0.0</td>\n",
       "      <td>0.0</td>\n",
       "      <td>0.0</td>\n",
       "      <td>0.0</td>\n",
       "    </tr>\n",
       "    <tr>\n",
       "      <th>3</th>\n",
       "      <td>1</td>\n",
       "      <td>100318.0</td>\n",
       "      <td>10:23:49</td>\n",
       "      <td>0:00:17</td>\n",
       "      <td>silence</td>\n",
       "      <td>0.0</td>\n",
       "      <td>0.0</td>\n",
       "      <td>0.0</td>\n",
       "      <td>0.0</td>\n",
       "      <td>0.0</td>\n",
       "      <td>0.0</td>\n",
       "      <td>0.0</td>\n",
       "      <td>0.0</td>\n",
       "      <td>0.0</td>\n",
       "    </tr>\n",
       "    <tr>\n",
       "      <th>4</th>\n",
       "      <td>1</td>\n",
       "      <td>100318.0</td>\n",
       "      <td>10:24:06</td>\n",
       "      <td>0:00:11</td>\n",
       "      <td>everyone</td>\n",
       "      <td>0.0</td>\n",
       "      <td>0.0</td>\n",
       "      <td>0.0</td>\n",
       "      <td>0.0</td>\n",
       "      <td>0.0</td>\n",
       "      <td>0.0</td>\n",
       "      <td>0.0</td>\n",
       "      <td>0.0</td>\n",
       "      <td>1.0</td>\n",
       "    </tr>\n",
       "  </tbody>\n",
       "</table>\n",
       "</div>"
      ],
      "text/plain": [
       "   section  date_mm_dd_yy      time duration      name  break_activity  \\\n",
       "0        1       100318.0  10:22:21      NaN    joseph             0.0   \n",
       "1        1       100318.0  10:22:49  0:00:26  everyone             0.0   \n",
       "2        1       100318.0  10:23:15  0:00:34    jehnna             0.0   \n",
       "3        1       100318.0  10:23:49  0:00:17   silence             0.0   \n",
       "4        1       100318.0  10:24:06  0:00:11  everyone             0.0   \n",
       "\n",
       "   objection  synthesis  clarifying  building_comment  new  reference_to_text  \\\n",
       "0        0.0        0.0         0.0               0.0  0.0                0.0   \n",
       "1        0.0        0.0         0.0               0.0  0.0                0.0   \n",
       "2        0.0        0.0         0.0               0.0  0.0                0.0   \n",
       "3        0.0        0.0         0.0               0.0  0.0                0.0   \n",
       "4        0.0        0.0         0.0               0.0  0.0                0.0   \n",
       "\n",
       "   interruption_side_talking  chaos_erupts  \n",
       "0                        1.0           0.0  \n",
       "1                        0.0           1.0  \n",
       "2                        0.0           0.0  \n",
       "3                        0.0           0.0  \n",
       "4                        0.0           1.0  "
      ]
     },
     "execution_count": 3,
     "metadata": {},
     "output_type": "execute_result"
    }
   ],
   "source": [
    "data.head(5)"
   ]
  },
  {
   "cell_type": "code",
   "execution_count": 4,
   "metadata": {},
   "outputs": [],
   "source": [
    "sorted_data = data[\"name\"].value_counts()\n",
    "sorted_data = pd.DataFrame({\"name\": sorted_data.index, \"count\": sorted_data.values})\n",
    "# print(sorted_data)\n",
    "\n",
    "one_ofs = sorted_data[\"count\"] <= 2\n",
    "one_ofs = sorted_data[one_ofs]"
   ]
  },
  {
   "cell_type": "code",
   "execution_count": 5,
   "metadata": {},
   "outputs": [],
   "source": [
    "def contribution_value(df, total):\n",
    "    value = 0\n",
    "    for i in df[\"count\"]:\n",
    "        value += i ** 2\n",
    "    value /= total\n",
    "    value /= len(df)\n",
    "    return value"
   ]
  },
  {
   "cell_type": "code",
   "execution_count": 6,
   "metadata": {},
   "outputs": [],
   "source": [
    "def filter_section(data, section):\n",
    "    def class_list(row):\n",
    "        drop = [\"lee\",\"jehnna\",\"everyone\",\"teachers\",\"class\",\"silence\",\"various\"]\n",
    "        no_drop = [\"casey\",\"eli\",\"molly\",\"alice\",\"kate\",\"anam\",\"anna\",\"zulie\",\"jojo\"]\n",
    "        if (row[\"name\"] in drop) or (row[\"count\"] <= 2 and row[\"name\"] not in no_drop):\n",
    "            return False\n",
    "        else:\n",
    "            return True\n",
    "    section_index = data[\"section\"] == section\n",
    "    filtered = data[section_index]\n",
    "    \n",
    "    filtered_counts = filtered[\"name\"].value_counts()\n",
    "    filtered_counts = pd.DataFrame({\"name\": filtered_counts.index, \"count\": filtered_counts.values})\n",
    "    \n",
    "    filtered_counts[\"drop\"] = filtered_counts.apply(class_list,axis=1)\n",
    "    filtered_counts = filtered_counts[filtered_counts[\"drop\"]]\n",
    "    \n",
    "    return [filtered_counts, len(filtered)]"
   ]
  },
  {
   "cell_type": "code",
   "execution_count": 7,
   "metadata": {},
   "outputs": [
    {
     "data": {
      "text/plain": [
       "{1: 1.2004435526454746,\n",
       " 2: 1.712101021638429,\n",
       " 3: 0.7011011301072153,\n",
       " 4: 1.8614825240441004,\n",
       " 5: 1.3858496332518337,\n",
       " 6: 2.7601122129436324}"
      ]
     },
     "execution_count": 7,
     "metadata": {},
     "output_type": "execute_result"
    }
   ],
   "source": [
    "sections = {}\n",
    "for i in range(1,7):\n",
    "    sections[i] = contribution_value(\n",
    "                                    filter_section(data, i)[0],\n",
    "                                    filter_section(data, i)[1],\n",
    "                                    )\n",
    "sections"
   ]
  },
  {
   "cell_type": "code",
   "execution_count": 8,
   "metadata": {},
   "outputs": [
    {
     "data": {
      "text/plain": [
       "[        name  count  drop\n",
       " 1     amelia     97  True\n",
       " 2       evan     96  True\n",
       " 3     elliot     83  True\n",
       " 4     amalia     80  True\n",
       " 7   mirielle     58  True\n",
       " 8    matthew     52  True\n",
       " 9      jonah     37  True\n",
       " 10   annie_z     33  True\n",
       " 11  isabelle     30  True\n",
       " 13     quetz     17  True\n",
       " 14      ryan     16  True\n",
       " 15      luke     14  True\n",
       " 16       gus     11  True\n",
       " 17     paige     10  True\n",
       " 20     molly      2  True\n",
       " 25     casey      1  True, 958]"
      ]
     },
     "execution_count": 8,
     "metadata": {},
     "output_type": "execute_result"
    }
   ],
   "source": [
    "filter_section(data, 6)"
   ]
  },
  {
   "cell_type": "code",
   "execution_count": 9,
   "metadata": {},
   "outputs": [
    {
     "name": "stderr",
     "output_type": "stream",
     "text": [
      "/Library/Frameworks/Python.framework/Versions/3.6/lib/python3.6/site-packages/ipykernel_launcher.py:14: SettingWithCopyWarning: \n",
      "A value is trying to be set on a copy of a slice from a DataFrame.\n",
      "Try using .loc[row_indexer,col_indexer] = value instead\n",
      "\n",
      "See the caveats in the documentation: http://pandas.pydata.org/pandas-docs/stable/indexing.html#indexing-view-versus-copy\n",
      "  \n"
     ]
    }
   ],
   "source": [
    "section_index = data[\"section\"] == 6\n",
    "section_6 = data[section_index]\n",
    "section_6\n",
    "\n",
    "def constructive(row):\n",
    "    if (row[\"interruption_side_talking\"] == True or row[\"chaos_erupts\"]):\n",
    "        return False\n",
    "    elif (row[\"name\"] in [\"lee\", \"jehnna\", \"leeandjehnna\", \"teachers\"]):\n",
    "        return False\n",
    "    elif (row[\"name\"] in [\"everyone\", \"video\", \"activity\", \"workperiod\"]):\n",
    "        return False\n",
    "    else:\n",
    "        return True\n",
    "section_6[\"constructive\"] = section_6.apply(constructive, axis=1)\n",
    "section_6 = section_6[[\"name\",\"constructive\"]]\n",
    "section_6 = section_6.reset_index()"
   ]
  },
  {
   "cell_type": "code",
   "execution_count": 10,
   "metadata": {},
   "outputs": [
    {
     "name": "stdout",
     "output_type": "stream",
     "text": [
      "isabelle made 30 contributions, 26 of which were constructive, or 86.67%\n",
      "Out of their 26 total constructive contributious, 14, or 46.67% followed an unconstructive action\n",
      "\n",
      "amelia made 97 contributions, 77 of which were constructive, or 79.38%\n",
      "Out of their 77 total constructive contributious, 38, or 39.18% followed an unconstructive action\n",
      "\n",
      "ryan made 16 contributions, 4 of which were constructive, or 25.0%\n",
      "Out of their 4 total constructive contributious, 2, or 12.5% followed an unconstructive action\n",
      "\n",
      "elliot made 83 contributions, 56 of which were constructive, or 67.47%\n",
      "Out of their 56 total constructive contributious, 27, or 32.53% followed an unconstructive action\n",
      "\n",
      "molly made 2 contributions, 2 of which were constructive, or 100.0%\n",
      "Out of their 2 total constructive contributious, 1, or 50.0% followed an unconstructive action\n",
      "\n",
      "casey made 1 contributions, 1 of which were constructive, or 100.0%\n",
      "Out of their 1 total constructive contributious, 0, or 0.0% followed an unconstructive action\n",
      "\n",
      "amalia made 80 contributions, 60 of which were constructive, or 75.0%\n",
      "Out of their 60 total constructive contributious, 20, or 25.0% followed an unconstructive action\n",
      "\n",
      "luke made 14 contributions, 10 of which were constructive, or 71.43%\n",
      "Out of their 10 total constructive contributious, 2, or 14.29% followed an unconstructive action\n",
      "\n",
      "quetz made 17 contributions, 9 of which were constructive, or 52.94%\n",
      "Out of their 9 total constructive contributious, 4, or 23.53% followed an unconstructive action\n",
      "\n",
      "paige made 10 contributions, 5 of which were constructive, or 50.0%\n",
      "Out of their 5 total constructive contributious, 3, or 30.0% followed an unconstructive action\n",
      "\n",
      "jonah made 37 contributions, 26 of which were constructive, or 70.27%\n",
      "Out of their 26 total constructive contributious, 15, or 40.54% followed an unconstructive action\n",
      "\n",
      "matthew made 52 contributions, 36 of which were constructive, or 69.23%\n",
      "Out of their 36 total constructive contributious, 14, or 26.92% followed an unconstructive action\n",
      "\n",
      "evan made 96 contributions, 68 of which were constructive, or 70.83%\n",
      "Out of their 68 total constructive contributious, 36, or 37.5% followed an unconstructive action\n",
      "\n",
      "gus made 11 contributions, 7 of which were constructive, or 63.64%\n",
      "Out of their 7 total constructive contributious, 5, or 45.45% followed an unconstructive action\n",
      "\n",
      "mirielle made 58 contributions, 58 of which were constructive, or 100.0%\n",
      "Out of their 58 total constructive contributious, 33, or 56.9% followed an unconstructive action\n",
      "\n",
      "annie_z made 33 contributions, 24 of which were constructive, or 72.73%\n",
      "Out of their 24 total constructive contributious, 11, or 33.33% followed an unconstructive action\n",
      "\n"
     ]
    }
   ],
   "source": [
    "for name in [\"isabelle\",\"amelia\",\"ryan\",\"elliot\",\"molly\",\"casey\",\"amalia\",\"luke\",\"quetz\",\"paige\",\"jonah\",\"matthew\",\n",
    "            \"evan\",\"gus\",\"mirielle\",\"annie_z\"]:\n",
    "    total_contributions = 0\n",
    "    constructive_contributions = 0\n",
    "    after_unconstructive = 0\n",
    "    for i in range(len(section_6)):\n",
    "        if (section_6.iloc[i][\"name\"] == name):\n",
    "            if (section_6.iloc[i][\"constructive\"]):\n",
    "                try:\n",
    "                    if (not(section_6.iloc[i-1][\"constructive\"])):\n",
    "                        after_unconstructive += 1\n",
    "                except IndexError:\n",
    "                    pass\n",
    "                constructive_contributions += 1\n",
    "            total_contributions += 1\n",
    "    contribution_percent = round(after_unconstructive/total_contributions*100,2)\n",
    "    constructive_percent = round(constructive_contributions/total_contributions*100,2)\n",
    "    print(\"{} made {} contributions, {} of which were constructive, or {}%\".format(\n",
    "        name, total_contributions, constructive_contributions, constructive_percent))\n",
    "    print(\"Out of their {} total constructive contributious, {}, or {}% followed an unconstructive action\\n\".format(\n",
    "        constructive_contributions, after_unconstructive, contribution_percent))"
   ]
  },
  {
   "cell_type": "code",
   "execution_count": null,
   "metadata": {},
   "outputs": [],
   "source": []
  }
 ],
 "metadata": {
  "kernelspec": {
   "display_name": "Python3.6New",
   "language": "python",
   "name": "myenv"
  },
  "language_info": {
   "codemirror_mode": {
    "name": "ipython",
    "version": 3
   },
   "file_extension": ".py",
   "mimetype": "text/x-python",
   "name": "python",
   "nbconvert_exporter": "python",
   "pygments_lexer": "ipython3",
   "version": "3.6.8"
  }
 },
 "nbformat": 4,
 "nbformat_minor": 2
}
